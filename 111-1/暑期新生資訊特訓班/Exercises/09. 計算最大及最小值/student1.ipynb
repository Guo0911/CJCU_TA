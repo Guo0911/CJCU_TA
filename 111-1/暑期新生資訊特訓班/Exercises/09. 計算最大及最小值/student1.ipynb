{
 "cells": [
  {
   "cell_type": "code",
   "execution_count": null,
   "metadata": {},
   "outputs": [],
   "source": [
    "a = abs(123)  \n",
    "b = abs(546)  \n",
    "c = abs(789)  \n",
    "d = abs(123)  \n",
    "e = abs(111)  \n",
    "f = abs(125)  \n",
    "  \n",
    "print(\"您輸入的數值為\", \":\", a, b, c, d, e, f)  \n",
    "  \n",
    "x = max(a, b, c, d, e, f)  \n",
    "y = min(a, b, c, d, e, f)  \n",
    "print(\"最大值\",\":\", x, \"及最小值\",\":\", y )"
   ]
  },
  {
   "cell_type": "markdown",
   "metadata": {},
   "source": [
    "---"
   ]
  },
  {
   "cell_type": "markdown",
   "metadata": {},
   "source": [
    "問題 1. 沒有讀入題目給予的數值\n",
    "\n",
    "問題 2. 不可使用 abs，為什麼?"
   ]
  },
  {
   "cell_type": "code",
   "execution_count": null,
   "metadata": {},
   "outputs": [],
   "source": [
    "a, b, c, d, e, f = list(map(int, input().split()))\n",
    "\n",
    "# 25 0 34 -15 25 31 => 最小值：-15\n",
    "# 25 0 34 15 25 31  => 最小值：0 \n",
    "  \n",
    "print(\"您輸入的數值為\", \":\", a, b, c, d, e, f)  \n",
    "  \n",
    "x = max(a, b, c, d, e, f)  \n",
    "y = min(a, b, c, d, e, f)  \n",
    "print(\"最大值\",\":\", x, \"及最小值\",\":\", y )\n",
    "\n",
    "#\n",
    "# 輸入：123 546 789 123 111 125\n",
    "# 輸出：您輸入的數值為 : 123 546 789 123 111 125\n",
    "#      最大值 : 789 及最小值 : 111"
   ]
  }
 ],
 "metadata": {
  "language_info": {
   "name": "python"
  },
  "orig_nbformat": 4
 },
 "nbformat": 4,
 "nbformat_minor": 2
}
