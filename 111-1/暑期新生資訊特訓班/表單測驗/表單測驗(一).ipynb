{
 "cells": [
  {
   "cell_type": "code",
   "execution_count": null,
   "metadata": {},
   "outputs": [],
   "source": [
    "import math, random"
   ]
  },
  {
   "cell_type": "markdown",
   "metadata": {},
   "source": [
    "表單連結：https://forms.gle/SSo8t856R7f5dVbD6"
   ]
  },
  {
   "cell_type": "markdown",
   "metadata": {},
   "source": [
    "-----"
   ]
  },
  {
   "cell_type": "markdown",
   "metadata": {},
   "source": [
    "1. 請問二進位的數值 5 應該如何表示?  \n",
    "(1) 二進位的每個位置僅會有 0 或 1，因此 5 明顯不會是二進位的數值  \n",
    "(2) 不是二進位數值  \n",
    "(3) 該數值看來是二進位，因此進行計算判斷是否為二進位，經過計算確定為十進位的數值 5  \n",
    "(4) 該數值看來是二進位，因此進行計算判斷是否為二進位，經過計算確定為十進位的數值 160  \n",
    "\n",
    "二進位轉十進位：  \n",
    "由右至左計算，最右邊為 2 ^ 0，往左一格則次方數 + 1，因此右邊數來第 2 格為 2 ^ 1  \n",
    "假如 00001010，則為十進位的 2 + 8  = 10  "
   ]
  },
  {
   "cell_type": "code",
   "execution_count": null,
   "metadata": {},
   "outputs": [],
   "source": [
    "print( bin(5) )"
   ]
  },
  {
   "cell_type": "markdown",
   "metadata": {},
   "source": [
    "-----"
   ]
  },
  {
   "cell_type": "markdown",
   "metadata": {},
   "source": [
    "2. 下列哪個函式會回傳 x 四捨五入後的數值?  \n",
    "(1) int(x)   會將 x 轉為 int 型態，而 int 型態是指整數  \n",
    "(2) round(x) 會將 x 的數值取四捨五入至整數位  \n",
    "(3) float(x) 會將 x 轉為 float 型態，而 float 型態是指會有小數點  \n",
    "(4) floor(x) 會將回傳小於 x 且最接近 x 的整數  "
   ]
  },
  {
   "cell_type": "code",
   "execution_count": null,
   "metadata": {},
   "outputs": [],
   "source": [
    "x = 5.5\n",
    "print(f'int(x)   : {int(x)}')\n",
    "print(f'round(x) : {round(x)}')\n",
    "print(f'float(x) : {float(x)}')\n",
    "print(f'floor(x) : {math.floor(x)}')\n"
   ]
  },
  {
   "cell_type": "markdown",
   "metadata": {},
   "source": [
    "-----"
   ]
  },
  {
   "cell_type": "markdown",
   "metadata": {},
   "source": [
    "3. 下列哪個函式會回傳 x, y 的最大公因數?  \n",
    "(1) pow(x, y) 會回傳 x 的 y 次方  \n",
    "(2) round(x, y) 會回傳 x 四捨五入到小數點後 y 位的數值  \n",
    "(3) math.log(x, y) 會回傳 log_(y)x 的結果  \n",
    "(4) math.gcd(x, y) 會回傳 x 與 y 的最大公因數  "
   ]
  },
  {
   "cell_type": "code",
   "execution_count": null,
   "metadata": {},
   "outputs": [],
   "source": [
    "x = 15\n",
    "y = 25\n",
    "print(f'pow(x, y)      : {pow(x, y)}')\n",
    "print(f'round(x, y)    : {round(x, y)}')\n",
    "print(f'math.log(x, y) : {math.log(x, y)}')\n",
    "print(f'math.gcd(x, y) : {math.gcd(x, y)}')"
   ]
  },
  {
   "cell_type": "markdown",
   "metadata": {},
   "source": [
    "-----"
   ]
  },
  {
   "cell_type": "markdown",
   "metadata": {},
   "source": [
    "4. 下列哪個選項不會回傳 25! 的結果?  \n",
    "(1) 回傳 25! 的結果  \n",
    "(2) 會先執行 5 x 5 的運算，而 5 x 5 也就是 25，因此會回傳 25! 的結果  \n",
    "(3) 會先執行 5 ** 2 的運算，而 5 ** 2 也就是 5 的 2 次方 25，因此會回傳 25! 的結果  \n",
    "(4) 會先執行 5 ^ 2 的運算，而 5 ^ 2 為 7 [1]，因此會回傳 7! 的結果  \n",
    "  \n",
    "[1] 在 Python 的運算中 x ^ y 會將 x 及 y 的二進位進行比較，以 (4) 的 5 ^ 2 作為範例  \n",
    "    數值 5 的二進位 : 00000101  \n",
    "    數值 2 的二進位 : 00000010  \n",
    "    而 ^ 運算子會將兩數值的二進位所有位置進行比較，若兩數值同一位置相同則回傳 0；相異則回傳 1  \n",
    "    因此 5 ^ 2 的二進位結果為 00000111 也就是 7  "
   ]
  },
  {
   "cell_type": "code",
   "execution_count": null,
   "metadata": {},
   "outputs": [],
   "source": [
    "a = math.factorial(25)\n",
    "print(f'(1) math.factorial(25)   答案為 : {a}')\n",
    "\n",
    "b = math.factorial(5*5)\n",
    "print(f'(2) math.factorial(5*5)  答案為 : {b}')\n",
    "\n",
    "c = math.factorial(5**2)\n",
    "print(f'(3) math.factorial(5**2) 答案為 : {c}')\n",
    "\n",
    "d = math.factorial(5^2)\n",
    "print(f'(4) math.factorial(5^2)  答案為 : {d}')"
   ]
  },
  {
   "cell_type": "markdown",
   "metadata": {},
   "source": [
    "-----"
   ]
  },
  {
   "cell_type": "markdown",
   "metadata": {},
   "source": [
    "5. 請問 x = max(5, 6) 被執行後，x 的數值會是多少?  \n",
    "\n",
    "max() 函式會對傳入的參數進行比較，並回傳所有參數中最大的數值  \n",
    "\n",
    "因此 max(5, 6) 會回傳 6  "
   ]
  },
  {
   "cell_type": "code",
   "execution_count": null,
   "metadata": {},
   "outputs": [],
   "source": [
    "x = max(5, 6)\n",
    "print(x)"
   ]
  },
  {
   "cell_type": "markdown",
   "metadata": {},
   "source": [
    "-----"
   ]
  },
  {
   "cell_type": "markdown",
   "metadata": {},
   "source": [
    "6. 請問 abs(5) 跟 abs(-5) 會回傳哪兩個數值? (順序不變)  \n",
    "\n",
    "abs() 函式會將傳入的參數進行絕對值後回傳  \n",
    "\n",
    "因此 abs(5) 回傳 5；abs(-5) 回傳 5  "
   ]
  },
  {
   "cell_type": "code",
   "execution_count": null,
   "metadata": {},
   "outputs": [],
   "source": [
    "x = abs(5)\n",
    "y = abs(-5)\n",
    "\n",
    "print(x, y)"
   ]
  },
  {
   "cell_type": "markdown",
   "metadata": {},
   "source": [
    "-----"
   ]
  },
  {
   "cell_type": "markdown",
   "metadata": {},
   "source": [
    "7. 請問下列哪一個選項是 random.random() 可能回傳的數值?  \n",
    "\n",
    "random() 函式會在 0 ~ 1 之前隨機取一個數值(有小數點)  \n",
    "\n",
    "因此 0.5 是所有選項中唯一一個符合範圍的數值\n",
    "\n",
    "若最小值出現 e-n 代表 10 的 -n 次方"
   ]
  },
  {
   "cell_type": "code",
   "execution_count": null,
   "metadata": {},
   "outputs": [],
   "source": [
    "a = 0\n",
    "b = 1\n",
    "for i in range(10000):\n",
    "    x = random.random()\n",
    "    a = max(a, x)\n",
    "    b = min(b, x)\n",
    "\n",
    "print(f'執行10000次的最大值 : {a}')\n",
    "print(f'執行10000次的最小值 : {b}')"
   ]
  },
  {
   "cell_type": "markdown",
   "metadata": {},
   "source": [
    "-----"
   ]
  },
  {
   "cell_type": "markdown",
   "metadata": {},
   "source": [
    "8. 請問下列程式碼中最後的輸出的結果為哪一個選項?  \n",
    "\n",
    "首先 x 為 3 且 y 為 2  \n",
    "\n",
    "將 a 存入 pow(x, y) 也就是 pow(3, 2)，並將 b 存入 pow(y, x) 也就是 pow(2, 3)  \n",
    "\n",
    "函式 pow(n1, n2) 會回傳 n1 的 n2 次方，因此 a 會被存入 3 的 2 次方為 9，b 存入 2 的 3 次方為 8  \n",
    "\n",
    "最後因 print() 中的「,」用於分隔兩個數值，因此「,」並不會被輸出，故輸出結果為「9 8」  "
   ]
  },
  {
   "cell_type": "code",
   "execution_count": null,
   "metadata": {},
   "outputs": [],
   "source": [
    "x = 3\n",
    "y = 2\n",
    "a = pow(x, y)\n",
    "b = pow(y, x)\n",
    "print(a, b)"
   ]
  },
  {
   "cell_type": "markdown",
   "metadata": {},
   "source": [
    "-----"
   ]
  },
  {
   "cell_type": "markdown",
   "metadata": {},
   "source": [
    "9. 請問下列程式碼中最後的輸出數值為哪一個選項?  \n",
    "\n",
    "首先 x 為 15 且 y 為 20  \n",
    "\n",
    "將 z 存入 max(x, y) 也就是 max(15, 20)，函數 max(n1, n2) 會回傳 n1 與 n2 間較大的值，因此 max(15, 20) 回傳的數值為 20\n",
    "\n",
    "再將 z += x 也就是把 z 加上 x，因此 z 從 20 變成 (20 + 15) = 35\n",
    "\n",
    "最後將 z 存入 min(x, z) 也就是 min(15, 35)，而函數 min(n1, n2) 會回傳 n1 與 n2 間較小的值，因此 min(15, 35) 回傳的數值為 15\n",
    "\n",
    "輸出 z 獲得數值 15"
   ]
  },
  {
   "cell_type": "code",
   "execution_count": null,
   "metadata": {},
   "outputs": [],
   "source": [
    "x = 15\n",
    "y = 20\n",
    "z = max(x, y)\n",
    "z += x\n",
    "z = min(x, z)\n",
    "print(z)"
   ]
  },
  {
   "cell_type": "markdown",
   "metadata": {},
   "source": [
    "-----"
   ]
  }
 ],
 "metadata": {
  "kernelspec": {
   "display_name": "Python 3.9.7 ('base')",
   "language": "python",
   "name": "python3"
  },
  "language_info": {
   "codemirror_mode": {
    "name": "ipython",
    "version": 3
   },
   "file_extension": ".py",
   "mimetype": "text/x-python",
   "name": "python",
   "nbconvert_exporter": "python",
   "pygments_lexer": "ipython3",
   "version": "3.9.7"
  },
  "orig_nbformat": 4,
  "vscode": {
   "interpreter": {
    "hash": "a077222d77dfe082b8f1dd562ad70e458ac2ab76993a0b248ab0476e32e9e8dd"
   }
  }
 },
 "nbformat": 4,
 "nbformat_minor": 2
}
